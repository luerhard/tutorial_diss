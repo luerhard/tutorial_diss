{
 "cells": [
  {
   "cell_type": "code",
   "execution_count": null,
   "id": "useful-strap",
   "metadata": {},
   "outputs": [],
   "source": [
    "import json\n",
    "\n",
    "import src\n",
    "from src.utils.treeview import JSONTreeView"
   ]
  },
  {
   "cell_type": "code",
   "execution_count": null,
   "id": "miniature-supplier",
   "metadata": {},
   "outputs": [],
   "source": [
    "with open(src.PATH / \"data/raw/persons.json\", \"r\") as f:\n",
    "    data = json.load(f)"
   ]
  },
  {
   "cell_type": "code",
   "execution_count": null,
   "id": "ancient-reynolds",
   "metadata": {},
   "outputs": [
    {
     "name": "stdout",
     "output_type": "stream",
     "text": [
      "Summary: (Total items: 1000)\n",
      "  +- age - 1000\n",
      "  +- city - 1000\n",
      "  +- first - 1000\n",
      "  +- invalid_field - 1\n",
      "  +- last - 1000\n"
     ]
    }
   ],
   "source": [
    "tree = JSONTreeView()\n",
    "result = tree.show(data)\n",
    "\n",
    "print(result)"
   ]
  },
  {
   "cell_type": "code",
   "execution_count": null,
   "id": "fatal-lawyer",
   "metadata": {},
   "outputs": [],
   "source": []
  }
 ],
 "metadata": {
  "kernelspec": {
   "display_name": "Python [conda env:tutorial_diss] *",
   "language": "python",
   "name": "conda-env-tutorial_diss-py"
  },
  "language_info": {
   "codemirror_mode": {
    "name": "ipython",
    "version": 3
   },
   "file_extension": ".py",
   "mimetype": "text/x-python",
   "name": "python",
   "nbconvert_exporter": "python",
   "pygments_lexer": "ipython3",
   "version": "3.8.8"
  }
 },
 "nbformat": 4,
 "nbformat_minor": 5
}
